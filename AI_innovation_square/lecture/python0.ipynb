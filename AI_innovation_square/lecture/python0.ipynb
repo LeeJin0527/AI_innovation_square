{
  "nbformat": 4,
  "nbformat_minor": 0,
  "metadata": {
    "colab": {
      "name": "python0.ipynb",
      "provenance": [],
      "authorship_tag": "ABX9TyMM/cUnYVRWcTtalHw7fzzk",
      "include_colab_link": true
    },
    "kernelspec": {
      "name": "python3",
      "display_name": "Python 3"
    }
  },
  "cells": [
    {
      "cell_type": "markdown",
      "metadata": {
        "id": "view-in-github",
        "colab_type": "text"
      },
      "source": [
        "<a href=\"https://colab.research.google.com/github/LeeJin0527/AI_innovation_square/blob/main/AI_innovation_square/lecture/python0.ipynb\" target=\"_parent\"><img src=\"https://colab.research.google.com/assets/colab-badge.svg\" alt=\"Open In Colab\"/></a>"
      ]
    },
    {
      "cell_type": "code",
      "metadata": {
        "id": "Z9aquOXTAtnT",
        "outputId": "7e4d8930-1a1b-4c6f-8dd3-8b74add93a11",
        "colab": {
          "base_uri": "https://localhost:8080/"
        }
      },
      "source": [
        "1+1"
      ],
      "execution_count": 7,
      "outputs": [
        {
          "output_type": "execute_result",
          "data": {
            "text/plain": [
              "2"
            ]
          },
          "metadata": {
            "tags": []
          },
          "execution_count": 7
        }
      ]
    },
    {
      "cell_type": "markdown",
      "metadata": {
        "id": "qMUqxWWoBTjP"
      },
      "source": [
        "정수 ,str, 정수 인데도 나옴 =>파이썬은 직관적인 언어다"
      ]
    },
    {
      "cell_type": "code",
      "metadata": {
        "id": "Ebbt5L4NBHaS",
        "outputId": "2e93c103-0448-4560-cfdd-7dd986ef8a8b",
        "colab": {
          "base_uri": "https://localhost:8080/"
        }
      },
      "source": [
        "3/2.4"
      ],
      "execution_count": 8,
      "outputs": [
        {
          "output_type": "execute_result",
          "data": {
            "text/plain": [
              "1.25"
            ]
          },
          "metadata": {
            "tags": []
          },
          "execution_count": 8
        }
      ]
    },
    {
      "cell_type": "markdown",
      "metadata": {
        "id": "IIPf3dRVBMtg"
      },
      "source": [
        "casting이 자동으로 되고 있다는 것을 알 수 있음"
      ]
    },
    {
      "cell_type": "code",
      "metadata": {
        "id": "eqHzPEhNBh1m",
        "outputId": "1af96e83-1e2b-4038-f189-6b7bda1eb290",
        "colab": {
          "base_uri": "https://localhost:8080/"
        }
      },
      "source": [
        "a=1\n",
        "b=2\n",
        "a+b"
      ],
      "execution_count": 9,
      "outputs": [
        {
          "output_type": "execute_result",
          "data": {
            "text/plain": [
              "3"
            ]
          },
          "metadata": {
            "tags": []
          },
          "execution_count": 9
        }
      ]
    },
    {
      "cell_type": "markdown",
      "metadata": {
        "id": "n5Oq01ZsBoFz"
      },
      "source": [
        "대입연산자 "
      ]
    },
    {
      "cell_type": "code",
      "metadata": {
        "id": "gs9jCJ9ZBpe3",
        "outputId": "afdd8773-ed4e-4993-e121-87eff468f5c1",
        "colab": {
          "base_uri": "https://localhost:8080/",
          "height": 55
        }
      },
      "source": [
        "a=\"Python\"\n",
        "print(a)\n",
        "a"
      ],
      "execution_count": 10,
      "outputs": [
        {
          "output_type": "stream",
          "text": [
            "Python\n"
          ],
          "name": "stdout"
        },
        {
          "output_type": "execute_result",
          "data": {
            "application/vnd.google.colaboratory.intrinsic+json": {
              "type": "string"
            },
            "text/plain": [
              "'Python'"
            ]
          },
          "metadata": {
            "tags": []
          },
          "execution_count": 10
        }
      ]
    },
    {
      "cell_type": "markdown",
      "metadata": {
        "id": "eKAK_OoYB_BF"
      },
      "source": [
        "변수에 문자 대입하고 출력하기 \n",
        " \n",
        "print-> 능동적출력\n",
        "변수출력-> 파이썬의 객체지향 특징"
      ]
    },
    {
      "cell_type": "code",
      "metadata": {
        "id": "ilghVxuSCCZR",
        "outputId": "821dc033-de7d-4174-e546-2b374efec987",
        "colab": {
          "base_uri": "https://localhost:8080/"
        }
      },
      "source": [
        "a=3\n",
        "if a>1:\n",
        "    print(\"a is greater than 1\")\n",
        "else:\n",
        "    print(\"a is smaller than 1\")"
      ],
      "execution_count": 12,
      "outputs": [
        {
          "output_type": "stream",
          "text": [
            "a is smaller than 1\n"
          ],
          "name": "stdout"
        }
      ]
    },
    {
      "cell_type": "code",
      "metadata": {
        "id": "jdz56lMVDuIF",
        "outputId": "462d096f-acda-47d6-8f30-472680741f1a",
        "colab": {
          "base_uri": "https://localhost:8080/"
        }
      },
      "source": [
        "for a in [1,2,3]:\n",
        "    print(a)"
      ],
      "execution_count": 13,
      "outputs": [
        {
          "output_type": "stream",
          "text": [
            "1\n",
            "2\n",
            "3\n"
          ],
          "name": "stdout"
        }
      ]
    },
    {
      "cell_type": "markdown",
      "metadata": {
        "id": "tSP9ZQu0DRcW"
      },
      "source": [
        "if 조건문 "
      ]
    }
  ]
}